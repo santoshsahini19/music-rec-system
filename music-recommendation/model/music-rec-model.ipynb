{
 "cells": [
  {
   "cell_type": "markdown",
   "metadata": {},
   "source": [
    "## Content based filtering model to recommend music based on user's input"
   ]
  },
  {
   "cell_type": "markdown",
   "metadata": {},
   "source": [
    "#### **Phase 1: Data loading and preprocessing**"
   ]
  },
  {
   "cell_type": "code",
   "execution_count": 3,
   "metadata": {},
   "outputs": [],
   "source": [
    "# import libraries\n",
    "import pandas as pd\n",
    "import numpy as np\n",
    "import os"
   ]
  },
  {
   "cell_type": "code",
   "execution_count": 10,
   "metadata": {},
   "outputs": [],
   "source": [
    "# load telugu songs data \n",
    "relative_file_path = os.path.join('..', 'data', 'telugu_songs_data.csv')\n",
    "song_data = pd.read_csv(relative_file_path)"
   ]
  },
  {
   "cell_type": "code",
   "execution_count": 11,
   "metadata": {},
   "outputs": [
    {
     "data": {
      "text/html": [
       "<div>\n",
       "<style scoped>\n",
       "    .dataframe tbody tr th:only-of-type {\n",
       "        vertical-align: middle;\n",
       "    }\n",
       "\n",
       "    .dataframe tbody tr th {\n",
       "        vertical-align: top;\n",
       "    }\n",
       "\n",
       "    .dataframe thead th {\n",
       "        text-align: right;\n",
       "    }\n",
       "</style>\n",
       "<table border=\"1\" class=\"dataframe\">\n",
       "  <thead>\n",
       "    <tr style=\"text-align: right;\">\n",
       "      <th></th>\n",
       "      <th>track_id</th>\n",
       "      <th>track_name</th>\n",
       "      <th>album_name</th>\n",
       "      <th>artist_name</th>\n",
       "      <th>danceability</th>\n",
       "      <th>energy</th>\n",
       "      <th>key</th>\n",
       "      <th>loudness</th>\n",
       "      <th>mode</th>\n",
       "      <th>speechiness</th>\n",
       "      <th>acousticness</th>\n",
       "      <th>instrumentalness</th>\n",
       "      <th>liveness</th>\n",
       "      <th>valence</th>\n",
       "      <th>tempo</th>\n",
       "    </tr>\n",
       "  </thead>\n",
       "  <tbody>\n",
       "    <tr>\n",
       "      <th>0</th>\n",
       "      <td>29EF5gpMfmL6DOzvgPTVC7</td>\n",
       "      <td>Nippai Ragile</td>\n",
       "      <td>RX 100 (Original Motion Picture Soundtrack)</td>\n",
       "      <td>Rahul Sipligunj</td>\n",
       "      <td>0.692</td>\n",
       "      <td>0.780</td>\n",
       "      <td>5.0</td>\n",
       "      <td>-5.576</td>\n",
       "      <td>1.0</td>\n",
       "      <td>0.0742</td>\n",
       "      <td>0.0169</td>\n",
       "      <td>0.000278</td>\n",
       "      <td>0.1130</td>\n",
       "      <td>0.425</td>\n",
       "      <td>80.013</td>\n",
       "    </tr>\n",
       "    <tr>\n",
       "      <th>1</th>\n",
       "      <td>5YMBmxKfzxs4jwwrb8FLcy</td>\n",
       "      <td>Inkem Inkem Inkem Kaavaale - From \"Geetha Govi...</td>\n",
       "      <td>Inkem Inkem Inkem Kaavaale (From \"Geetha Govin...</td>\n",
       "      <td>Gopi Sundar</td>\n",
       "      <td>0.810</td>\n",
       "      <td>0.523</td>\n",
       "      <td>4.0</td>\n",
       "      <td>-5.567</td>\n",
       "      <td>1.0</td>\n",
       "      <td>0.0479</td>\n",
       "      <td>0.4220</td>\n",
       "      <td>0.000000</td>\n",
       "      <td>0.0839</td>\n",
       "      <td>0.600</td>\n",
       "      <td>136.951</td>\n",
       "    </tr>\n",
       "    <tr>\n",
       "      <th>2</th>\n",
       "      <td>0v9u1rAlMAoFHFz6oCJ57U</td>\n",
       "      <td>Naalo Chilipi Kala (Theme Song)</td>\n",
       "      <td>Lover (Original Motion Picture Soundtrack)</td>\n",
       "      <td>Yazin Nizar</td>\n",
       "      <td>0.802</td>\n",
       "      <td>0.507</td>\n",
       "      <td>6.0</td>\n",
       "      <td>-5.298</td>\n",
       "      <td>0.0</td>\n",
       "      <td>0.0511</td>\n",
       "      <td>0.5660</td>\n",
       "      <td>0.000064</td>\n",
       "      <td>0.2430</td>\n",
       "      <td>0.706</td>\n",
       "      <td>84.991</td>\n",
       "    </tr>\n",
       "    <tr>\n",
       "      <th>3</th>\n",
       "      <td>5qQS9k70G9iuOi5tM0ozOi</td>\n",
       "      <td>Vachinde - From \"Fidaa\"</td>\n",
       "      <td>Vachinde (From \"Fidaa\")</td>\n",
       "      <td>Madhu Priya</td>\n",
       "      <td>0.824</td>\n",
       "      <td>0.786</td>\n",
       "      <td>0.0</td>\n",
       "      <td>-4.499</td>\n",
       "      <td>1.0</td>\n",
       "      <td>0.1220</td>\n",
       "      <td>0.3530</td>\n",
       "      <td>0.000000</td>\n",
       "      <td>0.1240</td>\n",
       "      <td>0.892</td>\n",
       "      <td>102.976</td>\n",
       "    </tr>\n",
       "    <tr>\n",
       "      <th>4</th>\n",
       "      <td>0xyDuOw1gAdFHy5ykgdex2</td>\n",
       "      <td>Violin Song - From \"Idharammayilatho\"</td>\n",
       "      <td>Devi Sri Prasad: Telugu Love Songs</td>\n",
       "      <td>David Simon</td>\n",
       "      <td>0.806</td>\n",
       "      <td>0.745</td>\n",
       "      <td>0.0</td>\n",
       "      <td>-4.234</td>\n",
       "      <td>1.0</td>\n",
       "      <td>0.0627</td>\n",
       "      <td>0.0827</td>\n",
       "      <td>0.000039</td>\n",
       "      <td>0.1640</td>\n",
       "      <td>0.844</td>\n",
       "      <td>121.960</td>\n",
       "    </tr>\n",
       "  </tbody>\n",
       "</table>\n",
       "</div>"
      ],
      "text/plain": [
       "                 track_id                                         track_name  \\\n",
       "0  29EF5gpMfmL6DOzvgPTVC7                                      Nippai Ragile   \n",
       "1  5YMBmxKfzxs4jwwrb8FLcy  Inkem Inkem Inkem Kaavaale - From \"Geetha Govi...   \n",
       "2  0v9u1rAlMAoFHFz6oCJ57U                    Naalo Chilipi Kala (Theme Song)   \n",
       "3  5qQS9k70G9iuOi5tM0ozOi                            Vachinde - From \"Fidaa\"   \n",
       "4  0xyDuOw1gAdFHy5ykgdex2              Violin Song - From \"Idharammayilatho\"   \n",
       "\n",
       "                                          album_name      artist_name  \\\n",
       "0        RX 100 (Original Motion Picture Soundtrack)  Rahul Sipligunj   \n",
       "1  Inkem Inkem Inkem Kaavaale (From \"Geetha Govin...      Gopi Sundar   \n",
       "2         Lover (Original Motion Picture Soundtrack)      Yazin Nizar   \n",
       "3                            Vachinde (From \"Fidaa\")      Madhu Priya   \n",
       "4                 Devi Sri Prasad: Telugu Love Songs      David Simon   \n",
       "\n",
       "   danceability  energy  key  loudness  mode  speechiness  acousticness  \\\n",
       "0         0.692   0.780  5.0    -5.576   1.0       0.0742        0.0169   \n",
       "1         0.810   0.523  4.0    -5.567   1.0       0.0479        0.4220   \n",
       "2         0.802   0.507  6.0    -5.298   0.0       0.0511        0.5660   \n",
       "3         0.824   0.786  0.0    -4.499   1.0       0.1220        0.3530   \n",
       "4         0.806   0.745  0.0    -4.234   1.0       0.0627        0.0827   \n",
       "\n",
       "   instrumentalness  liveness  valence    tempo  \n",
       "0          0.000278    0.1130    0.425   80.013  \n",
       "1          0.000000    0.0839    0.600  136.951  \n",
       "2          0.000064    0.2430    0.706   84.991  \n",
       "3          0.000000    0.1240    0.892  102.976  \n",
       "4          0.000039    0.1640    0.844  121.960  "
      ]
     },
     "execution_count": 11,
     "metadata": {},
     "output_type": "execute_result"
    }
   ],
   "source": [
    "song_data.head()"
   ]
  },
  {
   "cell_type": "code",
   "execution_count": 12,
   "metadata": {},
   "outputs": [
    {
     "name": "stdout",
     "output_type": "stream",
     "text": [
      "Number of rows and columns in the data: (67943, 15)\n"
     ]
    }
   ],
   "source": [
    "print(\"Number of rows and columns in the data:\", song_data.shape)"
   ]
  },
  {
   "cell_type": "code",
   "execution_count": 16,
   "metadata": {},
   "outputs": [],
   "source": [
    "# check to see if there are any duplicate songs in the data\n"
   ]
  },
  {
   "cell_type": "code",
   "execution_count": 15,
   "metadata": {},
   "outputs": [
    {
     "data": {
      "text/plain": [
       "track_id             object\n",
       "track_name           object\n",
       "album_name           object\n",
       "artist_name          object\n",
       "danceability        float64\n",
       "energy              float64\n",
       "key                 float64\n",
       "loudness            float64\n",
       "mode                float64\n",
       "speechiness         float64\n",
       "acousticness        float64\n",
       "instrumentalness    float64\n",
       "liveness            float64\n",
       "valence             float64\n",
       "tempo               float64\n",
       "dtype: object"
      ]
     },
     "execution_count": 15,
     "metadata": {},
     "output_type": "execute_result"
    }
   ],
   "source": [
    "# columns dtypes\n",
    "song_data.dtypes"
   ]
  },
  {
   "cell_type": "markdown",
   "metadata": {},
   "source": [
    "On observing the format of the audio features within the data from dancebility till tempo, there is need to normalize the data as not all the columns are in the same distribution."
   ]
  },
  {
   "cell_type": "markdown",
   "metadata": {},
   "source": []
  }
 ],
 "metadata": {
  "kernelspec": {
   "display_name": "Python 3.11.5 ('venv': venv)",
   "language": "python",
   "name": "python3"
  },
  "language_info": {
   "codemirror_mode": {
    "name": "ipython",
    "version": 3
   },
   "file_extension": ".py",
   "mimetype": "text/x-python",
   "name": "python",
   "nbconvert_exporter": "python",
   "pygments_lexer": "ipython3",
   "version": "3.11.5"
  },
  "orig_nbformat": 4,
  "vscode": {
   "interpreter": {
    "hash": "bfbcdc743634ac1f3278eec908e8cfc96190b138574d5ecda7432bb1aac29e5f"
   }
  }
 },
 "nbformat": 4,
 "nbformat_minor": 2
}
